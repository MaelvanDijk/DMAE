{
 "cells": [
  {
   "cell_type": "markdown",
   "metadata": {},
   "source": [
    "# Monster jobs using Monster API\n",
    "in this notebook the API for Monsterboard will be used to try and pull relevant data from the website.\n",
    "\n",
    "The URI that will be used: https://api.jobs.com/search/jobs "
   ]
  },
  {
   "cell_type": "markdown",
   "metadata": {},
   "source": [
    "## Authentication en authorization\n",
    "\n",
    "First authenticate using: https://api.jobs.com/auth/token?AppId=MyApp&AppSecret=abcdef1234 \n",
    "replacing this with the actual app id and secret\n"
   ]
  },
  {
   "cell_type": "code",
   "execution_count": null,
   "metadata": {},
   "outputs": [],
   "source": []
  }
 ],
 "metadata": {
  "kernelspec": {
   "display_name": "R",
   "language": "R",
   "name": "ir"
  },
  "language_info": {
   "name": "R"
  },
  "orig_nbformat": 4
 },
 "nbformat": 4,
 "nbformat_minor": 2
}
