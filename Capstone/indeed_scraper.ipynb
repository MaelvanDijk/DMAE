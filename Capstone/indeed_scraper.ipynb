{
 "cells": [
  {
   "cell_type": "markdown",
   "metadata": {},
   "source": [
    "# Indeed webscraper\n",
    "\n",
    "page 1= https://nl.indeed.com/jobs?q=data+analist&start=00  <br>\n",
    "page 2= https://nl.indeed.com/jobs?q=data+analist&start=10 <br>\n",
    "page 3= https://nl.indeed.com/jobs?q=data+analist&start=20 <br>\n",
    "\n",
    "\n",
    "**Getting the link of the job**:\n",
    "\n",
    "`<table id=\"resultsBody\"> --> <td id=\"resultsCol\"> --> <a (containing href=)>` --> href == link to job\n",
    "\n",
    "**Getting job description**:\n",
    "`<div id=\"jobDescriptionText\"> --> <p> of (<ul> --> <li>)` --> paragraphs of text\n"
   ]
  },
  {
   "cell_type": "markdown",
   "metadata": {},
   "source": [
    "## Load libraries"
   ]
  },
  {
   "cell_type": "code",
   "execution_count": 1,
   "metadata": {},
   "outputs": [
    {
     "name": "stderr",
     "output_type": "stream",
     "text": [
      "-- \u001b[1mAttaching packages\u001b[22m --------------------------------------- tidyverse 1.3.1 --\n",
      "\n",
      "\u001b[32mv\u001b[39m \u001b[34mggplot2\u001b[39m 3.3.5     \u001b[32mv\u001b[39m \u001b[34mpurrr  \u001b[39m 0.3.4\n",
      "\u001b[32mv\u001b[39m \u001b[34mtibble \u001b[39m 3.1.6     \u001b[32mv\u001b[39m \u001b[34mdplyr  \u001b[39m 1.0.8\n",
      "\u001b[32mv\u001b[39m \u001b[34mtidyr  \u001b[39m 1.2.0     \u001b[32mv\u001b[39m \u001b[34mstringr\u001b[39m 1.4.0\n",
      "\u001b[32mv\u001b[39m \u001b[34mreadr  \u001b[39m 2.1.2     \u001b[32mv\u001b[39m \u001b[34mforcats\u001b[39m 0.5.1\n",
      "\n",
      "-- \u001b[1mConflicts\u001b[22m ------------------------------------------ tidyverse_conflicts() --\n",
      "\u001b[31mx\u001b[39m \u001b[34mdplyr\u001b[39m::\u001b[32mfilter()\u001b[39m masks \u001b[34mstats\u001b[39m::filter()\n",
      "\u001b[31mx\u001b[39m \u001b[34mdplyr\u001b[39m::\u001b[32mlag()\u001b[39m    masks \u001b[34mstats\u001b[39m::lag()\n",
      "\n",
      "\n",
      "Attaching package: 'rvest'\n",
      "\n",
      "\n",
      "The following object is masked from 'package:readr':\n",
      "\n",
      "    guess_encoding\n",
      "\n",
      "\n",
      "\n",
      "Attaching package: 'lubridate'\n",
      "\n",
      "\n",
      "The following objects are masked from 'package:base':\n",
      "\n",
      "    date, intersect, setdiff, union\n",
      "\n",
      "\n"
     ]
    }
   ],
   "source": [
    "library(tidyverse)\n",
    "library(rvest)\n",
    "library(XML)\n",
    "library(stringr)\n",
    "library(lubridate)"
   ]
  },
  {
   "cell_type": "code",
   "execution_count": 61,
   "metadata": {},
   "outputs": [
    {
     "name": "stdout",
     "output_type": "stream",
     "text": [
      "[1] \"https://nl.indeed.com/pagead/clk?mo=r&ad=-6NYlbfkN0Dg1aOKV4dKLiKzD6mofKwDD4SbN1IWH_lyY4aNMJ8U1VKP9PN_mQrcSqMdhIm3LEk103q7ZCFeqXwZFt4t8h_i8pvsHXFJFrqqAaGVKJT96uCoY-6st3DKpF0YRBvNwSB6oA99vI3LV-_pvTgsfW-s6NHkkI2s82ExwsUz0OVPDv-ltEUKDbcJXWugbVPBtg3ngaE5ZVctn7a12uZ4zVmsjyxUwOsD61l7QppR7oODKDdAsuChZk1tx1IDVjAYdFeElPhWytNYWOpodCXsjbjqhOXFx3AeblMhllakLgxnKwTPeftIwV03_bucAOJ8kobRdC0n-dKG9PxgtK9k7Lv76iPIy0r42fiLiVaTyRHEZTF0qWdcLrjHCaPygFNNPAPFe36wjs8zA4ylrXUHuUxS4NhCLvRES_JroyGvcYvDT_KSuNLKwykVpGTM_9rmBES-PqkcD9f3RM0X_4OCZJ2ne8uEhGM0MGBKET1pvkr72uFORwHVezRM-APbbu3Vh_Mse-KIphDJdr8m7ZOSZGi8fK6w1uDOsqE65gauYhUOwLmGNYo31sBV-6TLMjUKtXlCZExFKMRePlSDrd2W-ByLMZqWDy2HuXBpmafgQsLGE-cqsR3h8DqWx03znoFQRu7ylwC9qKQdQn9_U9SL1wEQ7ud_VuVN1w_J_JMruA_4puFzAb3WD8zQX9F7astjG6L88QLJc9nOFoN2qBQo2BaB1CdIa5ZAZZevJ2DxhCo2bA==&p=0&fvj=0&vjs=3\"\n",
      "[1] \"https://nl.indeed.com/company/World-of-Content/jobs/Data-Scientist-1c0ef28d2ec3b4d2?fccid=d1d45cdb6b1ec5e9&vjs=3\"\n",
      "[1] \"https://nl.indeed.com/company/Data-Consulting-Group/jobs/Traineeship-56be5ba94229b950?fccid=3007dffe7fa0ac4a&vjs=3\"\n",
      "[1] \"https://nl.indeed.com/rc/clk?jk=ada85977c7707147&fccid=847e533b0a7fd89d&vjs=3\"\n",
      "[1] \"https://nl.indeed.com/pagead/clk?mo=r&ad=-6NYlbfkN0AX-JiieWArk6wlXMyIxFmSdE5O5NVYnXZt1zf5RW_CHBruzraJg89N3HV9SuA-p_ZY6ZFO2DhrK2RMeUdYzj2E_3lmyic683-v20b3YdYMwCxHEq6bBAKIy8Zdwmx2OMqpgPyNODL9pf4zea-bQ8nRUCcmxpm6np0xNuBXAhro65Ifb1EvY1O3s-nFNnBgeXMkvJHu1GD-ILGORVFOq-MPfdaGiadY18OCgGd0POpHDy_2tQMIkt6C5QZ28hXWp8CXpP8vS2Fn6_LitLW8xaELhyLdz-_bsG4Ri5Mz_L0u4qs7PzGszsHwwW0qp61F0LqGlunmJD8aAoHOY4bGi-QOGrNHBZAR_xwARejjky-wGse3DzXmJPMIfv1aWknUI6uXu5XRhGuQCSpX_e8pHacCvqE4aLO02fLVQbkqOSTMidEreEgq1Qas6BUq9_93PvbBBg_jea1kEYr7k9xuMTOs55wnhLloyCSaoXF19smwbZZxhwtUHLYiReQrCu-QA7hUJBZ9ffxgCMYhv5VjQ7s2j-YyH0P4_KvXCbfiAKOr9K2L4KLnG0dcPFmT7-5S9FzUyHiPs3-6qzq46XLi4mV4G1kQnEWRt8gY9u30HHtPXgRVOm_3suDvnVyW7i018AYjhiQsd56OjhXdNLyeefKmyG6TrgpW75c8gVeY40QErMS7P284JH3HEbIcEjvc1H7i6ngGc_Tbzo-zPved-qSp-DtaGdR37M0=&p=4&fvj=0&vjs=3\"\n",
      "[1] \"https://nl.indeed.com/rc/clk?jk=874fc03864b6feeb&fccid=9e215d88a6b33622&vjs=3\"\n",
      "[1] \"https://nl.indeed.com/pagead/clk?mo=r&ad=-6NYlbfkN0BP4go0ig0pZwWajoZJbvxsmm1JF4vOTiD3exOKsqp1XCqERqWmBT6Bv646O181OJfZgj8oi5GsuOujTo7GcDjXHWM8kNU2c0W1fwXzJims1OJsqE1uQKevwFwotZkhl7ZRl70TNxt7EIv9GjxJxmODxmS0ENfN9mzUoSjSTdFqU231m8OhBGNISQtG8Za4pxAJWjADEfICc-fgAP1KEdzdKggYjN5yEZ84pbEZUt35s83XG7KERoEmIm1Jb8usxb48SR9O4ETy8q9e1BlmVJPduDw5BFlIaaCrKKO9xv_YtMfx7veOUlWiH7dpfwzm04t7iWKmElex04fU_R-LYR7evhYNdG2s4gOpB2uFEKuIuBjBC3fI8vvydNjMLPzoqLxPIBqePs-g1_FJb_gznx_Ix_5RjluitT4CvEBZ92QHnkuUl_MY6f2nbTty0anSiitB_SG-0zi4llkUxRjVj0mqqFLC3IQw9eJ-xPWr8qznKSUxzh6khtr2f9U3uc7m-l2RbFef984pTnBHnyIhCZRbfO7tFFgvRDM3JmPvgvGWnQ==&p=6&fvj=0&vjs=3\"\n",
      "[1] \"https://nl.indeed.com/rc/clk?jk=b56c7c9ff4310274&fccid=fddaada6bc344ac7&vjs=3\"\n",
      "[1] \"https://nl.indeed.com/rc/clk?jk=948259db6a3a018b&fccid=044b3cb638ffa750&vjs=3\"\n",
      "[1] \"https://nl.indeed.com/rc/clk?jk=e680b1eb61db2605&fccid=ba07516c418dda52&vjs=3\"\n",
      "[1] \"https://nl.indeed.com/rc/clk?jk=0928052f6f2258f1&fccid=d793267f73246282&vjs=3\"\n",
      "[1] \"https://nl.indeed.com/rc/clk?jk=cd8f579b4decd949&fccid=bd4c565f3ad1eb79&vjs=3\"\n",
      "[1] \"https://nl.indeed.com/rc/clk?jk=78935aa3094b1501&fccid=12ba83711d8ef09f&vjs=3\"\n",
      "[1] \"https://nl.indeed.com/company/EnAppSys-BV/jobs/Data-Scientist-5dc16bcdd3d26a33?fccid=45b7c770a2842d74&vjs=3\"\n",
      "[1] \"https://nl.indeed.com/company/Koninklijke-Borgesius-Hoofdkantoor/jobs/Product-Data-Wetgeving-Specialist-73adb3ee2b3f7700?fccid=5870586ebc33803e&vjs=3\"\n",
      "[1] \"https://nl.indeed.com/rc/clk?jk=0928052f6f2258f1&fccid=d793267f73246282&vjs=3\"\n",
      "[1] \"https://nl.indeed.com/pagead/clk?mo=r&ad=-6NYlbfkN0C_IOwqOjj2A_0FHYVTJAwZwAnEqyyWmpNoQ83ZPg85XtYwQHq6uBfiX7nMOd0fPusdTIdfp2rPeLRbgKrQj-Ss-S0yFtSYvM8Bn6BFCuLbIQeQSLA7sNoKCpbu0wdoDJaRkzClxTxlYKBjUnkFz05xSWf52ZVXo6xL-GSFTuDxEvbqxigSAc8luOJ4NfPlsJ3HBy9Tpc4VCUOv-vIS0x0xWlODMpB59x0qTV4HpT1KF7pcUgOKqwc11-5ltpY-ixdZZontCeHYCVm6HqEF7W2lPwonQK2JEc9E1D1cd2W84kEhNEs59rVnraX1wdgP2WoE0CKiBqJM9I7xAtRLHL3ZfSdlV1chwHejPn9xxfdW-uVK6vrn2yjnZKduYIrbj6VFuIcnoB1dXJukLQUxuONNWwiLOzE9t6jczeuffCBK_PNUrTBOrju3sQngoh3mMplRY7e4HgAflI2xT1I0rba1&p=1&fvj=1&vjs=3\"\n",
      "[1] \"https://nl.indeed.com/rc/clk?jk=cd8f579b4decd949&fccid=bd4c565f3ad1eb79&vjs=3\"\n",
      "[1] \"https://nl.indeed.com/rc/clk?jk=78935aa3094b1501&fccid=12ba83711d8ef09f&vjs=3\"\n",
      "[1] \"https://nl.indeed.com/company/EnAppSys-BV/jobs/Data-Scientist-5dc16bcdd3d26a33?fccid=45b7c770a2842d74&vjs=3\"\n",
      "[1] \"https://nl.indeed.com/company/Koninklijke-Borgesius-Hoofdkantoor/jobs/Product-Data-Wetgeving-Specialist-73adb3ee2b3f7700?fccid=5870586ebc33803e&vjs=3\"\n",
      "[1] \"https://nl.indeed.com/rc/clk?jk=446bd0261a106188&fccid=2d2f33c967beb5fb&vjs=3\"\n",
      "[1] \"https://nl.indeed.com/rc/clk?jk=1fb32f9ae25aaced&fccid=38c84708b80970a7&vjs=3\"\n"
     ]
    },
    {
     "name": "stderr",
     "output_type": "stream",
     "text": [
      "Warning message in matrix(value, n, p):\n",
      "\"data length [8] is not a sub-multiple or multiple of the number of columns [7]\"\n"
     ]
    },
    {
     "name": "stdout",
     "output_type": "stream",
     "text": [
      "[1] \"https://nl.indeed.com/pagead/clk?mo=r&ad=-6NYlbfkN0BQVpz0dABwcJxPL6ZF89l8aMZ4ujW6gW5aOiSkCGD8kHrUJtmUIy1MbgNJvpw90S7uI6Xj3oLI9JITeDQiZXXB5-hUHsD1Civ70sUlnaIMXZKITdj6UozcgDNfipxKcuFCn0C4iEi5Mgvjd7c-nbLc-r1q7WfAx_vA9rng-LIPF7v1YnevH-kAVmrDQ2gvpP4_5WGqet7R3ENDiud5WGwH3-tPHSh7J_w1sWyBlekjPDICJ8jtrbX2M0KM8BWEEcpdnfYJoFIQ0qBZ8AEDwLnH_W2vFuPAmkSnNrS0KUQdvMP_QEsp28DOs3ZJ-Qp85ZqLatWjHWLhAC-bXaDr1QRBVLNzTKQhBXjb6akhRAYMCojbp0V8N3bJu9DGxDavBTG6rrmNhfR5hpQBJw8RP0_G_CoY56Iv0EhO1aX3d0ekq26lr4ytvk-3eRMuoHSSoUdROPhx1V8QTOjlHQPmvdz2rjZblAlfYqh3dqZOHZC4zGq9bRnpMTeFkNAsQUVGyRbaNe0LMlAiuunrMrPqVcQvO6KbzuHxz7tfI6y8IK1sXDVqmP9nJpnsF4y-7P-_qWptRgvMJaC9oeFHhcwo92hZIB7rCpV5QMCzZtlIxL9_EQ==&p=8&fvj=1&vjs=3\"\n",
      "[1] \"https://nl.indeed.com/company/Dilaco/jobs/Data-Scientist-b708817cc9516df8?fccid=2563c50176a9aa47&vjs=3\"\n",
      "[1] \"https://nl.indeed.com/rc/clk?jk=3404847a23915586&fccid=f255d6d751297923&vjs=3\"\n"
     ]
    },
    {
     "name": "stderr",
     "output_type": "stream",
     "text": [
      "Warning message in matrix(value, n, p):\n",
      "\"data length [8] is not a sub-multiple or multiple of the number of columns [7]\"\n"
     ]
    },
    {
     "name": "stdout",
     "output_type": "stream",
     "text": [
      "[1] \"https://nl.indeed.com/rc/clk?jk=10937df4f2b852c3&fccid=12ba83711d8ef09f&vjs=3\"\n",
      "[1] \"https://nl.indeed.com/rc/clk?jk=c387575393cf8753&fccid=113bb7f6362ec380&vjs=3\"\n",
      "[1] \"https://nl.indeed.com/rc/clk?jk=5c6eb09ac328c05c&fccid=2b4a63ff7492f90e&vjs=3\"\n",
      "[1] \"https://nl.indeed.com/rc/clk?jk=af08fdba5586cb4a&fccid=f255d6d751297923&vjs=3\"\n"
     ]
    },
    {
     "name": "stderr",
     "output_type": "stream",
     "text": [
      "Warning message in matrix(value, n, p):\n",
      "\"data length [8] is not a sub-multiple or multiple of the number of columns [7]\"\n"
     ]
    }
   ],
   "source": [
    "job_base_url <- 'https://nl.indeed.com'\n",
    "job_base_search_url <- 'https://nl.indeed.com/jobs?q=data&start='\n",
    "# url_job_search <- read_html('https://nl.indeed.com/jobs?q=data')\n",
    "\n",
    "wordlist <- read.table(\n",
    "    '..\\\\Capstone\\\\trimmed_skill_names.txt',\n",
    "     header = TRUE\n",
    "     ) %>% .$x\n",
    "\n",
    "jobs_df <- data.frame(\n",
    "    Company = character(),\n",
    "    job_title = character(),\n",
    "    salary = character(),\n",
    "    skills = character(),\n",
    "    days_online = numeric(),\n",
    "    job_desc = character(),\n",
    "    job_link = character()\n",
    ")\n",
    "\n",
    "for (i in seq.default(0, 10, 10)){\n",
    "\n",
    "    job_list_url <- paste(job_base_search_url, as.character(i), sep= \"\")\n",
    "    job_list_read <- read_html(job_list_url) # lees html in\n",
    "\n",
    "    job_urls <- job_list_read %>%\n",
    "        html_nodes(xpath= '//*[@id=\"mosaic-zone-jobcards\"]') %>% # ga naar het specifieke xpath\n",
    "        html_nodes('a') %>% # ga naar a\n",
    "        html_attr(\"href\")# pak de href\n",
    "\n",
    "    # loop over job_urls\n",
    "    for (j in 1:length(job_urls)){\n",
    "\n",
    "        # when url is longer than 200 chars it is a job url\n",
    "        # nchar(job_urls[[j]]) > 200\n",
    "        if (grepl('/pagead/', job_urls[[j]]) | grepl('/clk?', job_urls[[j]]) | grepl('/company/', job_urls[[j]])  ){\n",
    "            full_job_url <- paste(job_base_url, job_urls[[j]], sep=\"\")\n",
    "            print(full_job_url)\n",
    "            # read html\n",
    "            job_html_read <- read_html(full_job_url)\n",
    "\n",
    "            # extract company name\n",
    "            company_name <- job_html_read %>%\n",
    "                html_nodes(css= 'head > meta:nth-child(15)') %>%\n",
    "                html_attr('content')\n",
    "\n",
    "            # extract title\n",
    "            job_title <- job_html_read %>%\n",
    "                html_nodes('h1') %>%\n",
    "                html_text()\n",
    "            \n",
    "            time_since_placed_text <- job_html_read %>%\n",
    "                html_nodes(css= '.jobsearch-JobMetadataFooter > div:nth-child(2)') %>%\n",
    "                html_text()\n",
    "\n",
    "            # check if string does not contain integer using regex\n",
    "            if (!grepl(\"\\\\d\", time_since_placed_text) & !grepl(\"Vandaag\", time_since_placed_text)){\n",
    "                time_since_placed_text <- job_html_read %>%\n",
    "                    html_nodes(css= '.jobsearch-JobMetadataFooter > div:nth-child(1)') %>%\n",
    "                    html_text()\n",
    "            }\n",
    "\n",
    "            if (grepl(\"\\\\d\", time_since_placed_text)){\n",
    "                time_since_placed <- str_extract_all(time_since_placed_text, \"\\\\(?[0-9,.]+\\\\)?\")[[1]]\n",
    "            } else if (grepl(\"Vandaag\", time_since_placed_text)) {\n",
    "                time_since_placed <- 0\n",
    "            } else {\n",
    "            time_since_placed <- NA\n",
    "            }\n",
    "\n",
    "\n",
    "            # extract description\n",
    "            job_description <- job_html_read %>%\n",
    "                html_nodes(xpath= '//*[@id=\"jobDescriptionText\"]') %>%\n",
    "                html_text()\n",
    "            \n",
    "            # remove non alpha numeric characters\n",
    "            job_description_cleaned <- gsub('[^[:alnum:] ]', ' ', job_description)\n",
    "\n",
    "            # generate wordvector\n",
    "            wordvec <- unname(unlist(sapply(job_description_cleaned, function(z) str_split(tolower(z), \" \"))))\n",
    "\n",
    "            # extract skills from word vector\n",
    "            skill_table <- wordvec[wordvec %in% tolower(wordlist)] %>%\n",
    "                unique()\n",
    "\n",
    "            # probeer salari op te halen via specifieke salary indicator\n",
    "            salary_indicator <- job_html_read %>%\n",
    "                html_nodes(css= '#salaryInfoAndJobType') %>%\n",
    "                html_text()\n",
    "\n",
    "            # Als de € niet voorkomt in het bestand probeer dan de salary distribution\n",
    "            if (length(salary_indicator) < 1){\n",
    "                salary_indicator <- job_html_read %>%\n",
    "                    html_nodes(css= '.cmp-SalaryDistributionDisplayWidget-subinfo') %>%\n",
    "                    html_text()\n",
    "            }\n",
    "\n",
    "            if (length(salary_indicator) < 1){\n",
    "                salary <- NA\n",
    "            } else if (grepl('€',salary_indicator)) {\n",
    "                # anders zoek de eerste salaris indicatie\n",
    "                salary_start_num <- unlist(gregexpr('€', salary_indicator))[1]\n",
    "                salary <- substring(salary_indicator, salary_start_num, salary_start_num + 7) \n",
    "            } else {\n",
    "                salary <- NA\n",
    "            }\n",
    "            \n",
    "            jobs_df[nrow(jobs_df) + 1,] = c(\n",
    "                company_name,\n",
    "                job_title,\n",
    "                salary,\n",
    "                toString(unique(skill_table)),\n",
    "                as.numeric(time_since_placed),\n",
    "                job_description,\n",
    "                full_job_url)\n",
    "            \n",
    "            Sys.sleep(4)\n",
    "        }\n",
    "    }\n",
    "}"
   ]
  },
  {
   "cell_type": "code",
   "execution_count": 62,
   "metadata": {},
   "outputs": [
    {
     "name": "stderr",
     "output_type": "stream",
     "text": [
      "Warning message in eval(expr, envir, enclos):\n",
      "\"NAs introduced by coercion\"\n"
     ]
    },
    {
     "data": {
      "text/html": [
       "<style>\n",
       ".list-inline {list-style: none; margin:0; padding: 0}\n",
       ".list-inline>li {display: inline-block}\n",
       ".list-inline>li:not(:last-child)::after {content: \"\\00b7\"; padding: 0 .5ex}\n",
       "</style>\n",
       "<ol class=list-inline><li><time datetime=\"2022-02-17\">2022-02-17</time></li><li><time datetime=\"2022-03-04\">2022-03-04</time></li><li><time datetime=\"2022-02-17\">2022-02-17</time></li><li><time datetime=\"2022-02-22\">2022-02-22</time></li><li><time datetime=\"2022-02-21\">2022-02-21</time></li><li><time datetime=\"2022-02-02\">2022-02-02</time></li><li><time datetime=\"2022-02-25\">2022-02-25</time></li><li><time datetime=\"2022-02-02\">2022-02-02</time></li><li><time datetime=\"2022-02-02\">2022-02-02</time></li><li><time datetime=\"2022-03-03\">2022-03-03</time></li><li><time datetime=\"2022-02-21\">2022-02-21</time></li><li><time datetime=\"2022-02-23\">2022-02-23</time></li><li><time datetime=\"2022-02-02\">2022-02-02</time></li><li><time datetime=\"2022-02-14\">2022-02-14</time></li><li><time datetime=\"2022-02-03\">2022-02-03</time></li><li><time datetime=\"2022-02-21\">2022-02-21</time></li><li><time datetime=\"2022-02-03\">2022-02-03</time></li><li><time datetime=\"2022-02-23\">2022-02-23</time></li><li><time datetime=\"2022-02-02\">2022-02-02</time></li><li><time datetime=\"2022-02-14\">2022-02-14</time></li><li><time datetime=\"2022-02-03\">2022-02-03</time></li><li><time datetime=\"2022-02-02\">2022-02-02</time></li><li><time datetime=\"&lt;NA&gt;\">&lt;NA&gt;</time></li><li><time datetime=\"2022-02-02\">2022-02-02</time></li><li><time datetime=\"2022-02-14\">2022-02-14</time></li><li><time datetime=\"&lt;NA&gt;\">&lt;NA&gt;</time></li><li><time datetime=\"2022-02-07\">2022-02-07</time></li><li><time datetime=\"2022-02-23\">2022-02-23</time></li><li><time datetime=\"2022-02-05\">2022-02-05</time></li><li><time datetime=\"&lt;NA&gt;\">&lt;NA&gt;</time></li></ol>\n"
      ],
      "text/latex": [
       "\\begin{enumerate*}\n",
       "\\item 2022-02-17\n",
       "\\item 2022-03-04\n",
       "\\item 2022-02-17\n",
       "\\item 2022-02-22\n",
       "\\item 2022-02-21\n",
       "\\item 2022-02-02\n",
       "\\item 2022-02-25\n",
       "\\item 2022-02-02\n",
       "\\item 2022-02-02\n",
       "\\item 2022-03-03\n",
       "\\item 2022-02-21\n",
       "\\item 2022-02-23\n",
       "\\item 2022-02-02\n",
       "\\item 2022-02-14\n",
       "\\item 2022-02-03\n",
       "\\item 2022-02-21\n",
       "\\item 2022-02-03\n",
       "\\item 2022-02-23\n",
       "\\item 2022-02-02\n",
       "\\item 2022-02-14\n",
       "\\item 2022-02-03\n",
       "\\item 2022-02-02\n",
       "\\item <NA>\n",
       "\\item 2022-02-02\n",
       "\\item 2022-02-14\n",
       "\\item <NA>\n",
       "\\item 2022-02-07\n",
       "\\item 2022-02-23\n",
       "\\item 2022-02-05\n",
       "\\item <NA>\n",
       "\\end{enumerate*}\n"
      ],
      "text/markdown": [
       "1. 2022-02-17\n",
       "2. 2022-03-04\n",
       "3. 2022-02-17\n",
       "4. 2022-02-22\n",
       "5. 2022-02-21\n",
       "6. 2022-02-02\n",
       "7. 2022-02-25\n",
       "8. 2022-02-02\n",
       "9. 2022-02-02\n",
       "10. 2022-03-03\n",
       "11. 2022-02-21\n",
       "12. 2022-02-23\n",
       "13. 2022-02-02\n",
       "14. 2022-02-14\n",
       "15. 2022-02-03\n",
       "16. 2022-02-21\n",
       "17. 2022-02-03\n",
       "18. 2022-02-23\n",
       "19. 2022-02-02\n",
       "20. 2022-02-14\n",
       "21. 2022-02-03\n",
       "22. 2022-02-02\n",
       "23. &lt;NA&gt;\n",
       "24. 2022-02-02\n",
       "25. 2022-02-14\n",
       "26. &lt;NA&gt;\n",
       "27. 2022-02-07\n",
       "28. 2022-02-23\n",
       "29. 2022-02-05\n",
       "30. &lt;NA&gt;\n",
       "\n",
       "\n"
      ],
      "text/plain": [
       " [1] \"2022-02-17\" \"2022-03-04\" \"2022-02-17\" \"2022-02-22\" \"2022-02-21\"\n",
       " [6] \"2022-02-02\" \"2022-02-25\" \"2022-02-02\" \"2022-02-02\" \"2022-03-03\"\n",
       "[11] \"2022-02-21\" \"2022-02-23\" \"2022-02-02\" \"2022-02-14\" \"2022-02-03\"\n",
       "[16] \"2022-02-21\" \"2022-02-03\" \"2022-02-23\" \"2022-02-02\" \"2022-02-14\"\n",
       "[21] \"2022-02-03\" \"2022-02-02\" NA           \"2022-02-02\" \"2022-02-14\"\n",
       "[26] NA           \"2022-02-07\" \"2022-02-23\" \"2022-02-05\" NA          "
      ]
     },
     "metadata": {},
     "output_type": "display_data"
    }
   ],
   "source": [
    "today() - as.numeric(jobs_df$days_online)"
   ]
  },
  {
   "cell_type": "code",
   "execution_count": 70,
   "metadata": {},
   "outputs": [],
   "source": [
    "file_n<-sprintf(\"% s scraped indeed data.csv\", today())\n",
    "write.csv(jobs_df, file_n)\n"
   ]
  },
  {
   "cell_type": "markdown",
   "metadata": {},
   "source": [
    "## getting indeed search page information\n",
    "base url= https://nl.indeed.com/jobs?q=data+analist"
   ]
  },
  {
   "cell_type": "code",
   "execution_count": null,
   "metadata": {},
   "outputs": [],
   "source": [
    "url_job_search <- read_html('https://nl.indeed.com/jobs?q=data') # lees html in\n",
    "\n",
    "job_urls <- url_job_search %>%\n",
    "  # html_nodes('body')%>%\n",
    "  html_nodes(xpath= '//*[@id=\"mosaic-zone-jobcards\"]') %>% # ga naar het specifieke xpath\n",
    "  html_nodes('a') %>% # ga naar a\n",
    "  html_attr(\"href\")# pak de href\n",
    "\n",
    "job_urls[[1]]"
   ]
  },
  {
   "cell_type": "markdown",
   "metadata": {},
   "source": [
    "## Get Job info"
   ]
  },
  {
   "cell_type": "code",
   "execution_count": null,
   "metadata": {},
   "outputs": [],
   "source": [
    "job_base_url <- 'https://nl.indeed.com'\n",
    "full_job_url <- paste(job_base_url, job_urls[[1]], sep=\"\")\n",
    "full_job_url"
   ]
  },
  {
   "cell_type": "code",
   "execution_count": null,
   "metadata": {},
   "outputs": [],
   "source": [
    "job_description <- read_html(full_job_url) %>%\n",
    "    html_nodes(xpath= '//*[@id=\"jobDescriptionText\"]') %>%\n",
    "    html_text()"
   ]
  },
  {
   "cell_type": "markdown",
   "metadata": {},
   "source": [
    "## Extract Salary"
   ]
  },
  {
   "cell_type": "code",
   "execution_count": null,
   "metadata": {},
   "outputs": [],
   "source": [
    "test_url = 'https://nl.indeed.com/viewjob?jk=33d4be78835757d1&tk=1ft2v35nf3b5m000&from=serp&vjs=3&advn=4610837443530944&adid=371890778&ad=-6NYlbfkN0A_cWh5ufxJCEatf9FOtgdwl-LajcKrnY3NwdklpeSDnjaH9EsBM6ngV0apa0_Kx2a5GKCW4uS0O7MdMAqsdKUS4q0L_C77bzQCZHbh2VakwHOoBSx_gXNPBJOeqxq7IUUc4s9CBf_lt5ktVCCKOckMPI8DQ-kKHnVfI97NdL-7of8Oo7OCSaCBZL8Z41xkIGi-jjU-emgJ8f1utRtU276rmh-6Rww5rOQKaWr9wwgGy6sYrcY4MEIcYBkbm5BychuYGL0AFbd7Vy65yEMtdbRprQHT9KeUwpjRNpt6FLJMpPGJcxEUzshqpQrMGS0B_CRCLlmxqTWqBEPfpy3Y7aujfdqxmlVIkXqhghqlEzA3Ag==&sjdu=0ZFwD5rbjMRcHz87Kzx_g4iztdTb_2bOBnSpyL0eJqrnoH0zhNHGeUS0d52A-25mtSPp3ZGAbkfQnEhseHJ_YqiTRf1RGyCMrfm3GKjpLJXmRb1As35_i94VtIfO7AZtgI0QXqDAYweserYyqDu1JUW2c6S_FT2kfNZmCatNflk'\n",
    "\n",
    "salary_indicator <- read_html(test_url) %>%\n",
    "    html_nodes(css= '.cmp-SalaryDistributionDisplayWidget-subinfo') %>%\n",
    "    html_text()\n",
    "\n",
    "salary_indicator\n",
    "\n",
    "# /html/head/meta[12]\n",
    "# /html/head/meta[13]\n",
    "#html.js-focus-visible head meta\n",
    "#/html/head/meta[13]\n",
    "#head > meta:nth-child(15)\n",
    "# head > meta:nth-child(14)"
   ]
  },
  {
   "cell_type": "code",
   "execution_count": null,
   "metadata": {},
   "outputs": [],
   "source": [
    "test_url = 'https://nl.indeed.com/viewjob?jk=aee5f00cab6957ed&q=SAS&tk=1ft62l0v1i9b7802&from=hpd&advn=1272578650180431&adid=367702106&ad=-6NYlbfkN0Bxu6CKaaZeHzJ6IiDpuxwlJ-Jh_LThrAM6mK1WPabT4wOrE7tVDSerQupuoNaldqveRRnZCn-I_tIp5wyi9ean77lpFwBWstwxWV6ehvvWPTacCGfEVwci_XNF1I6UiLnkRlxMaZxMJ1A0xzl8P6ndKdEQCOLPjfz7mv7LBNSdXAwbuEBBwSRXujtr445DebYvoFEty_c9Vrt6wdaxxEfJ2ve64b_DHepatrE8CzLXyC-Qy_cPPLSSFsU32boQAAWRX79YQJhOtj4yzea5N11zenTDua9hFlmQN427rfZLBZHFobUmR28-AIP-Hld2yuVYYFFeREW8oSPbaicTI_TD9R9NNequqrTC88g6KiCW9F-VM18wDDRihihTtZx9-s4TgWF38xVy56wWpuRxuL3STAAyakfmT9_XxKQGpMRR7Q%3D%3D&pub=4a1b367933fd867b19b072952f68dceb&vjs=3'\n",
    "\n",
    "salary_indicator <- read_html(test_url) %>%\n",
    "    html_nodes(css= '#salaryInfoAndJobType') %>%\n",
    "    html_text()\n",
    "\n",
    "\n",
    "salary_indicator"
   ]
  },
  {
   "cell_type": "code",
   "execution_count": null,
   "metadata": {},
   "outputs": [],
   "source": [
    "# probeer salaris op 1 van de 2 manieren te bepalen\n",
    "test_url = 'https://nl.indeed.com/viewjob?jk=aee5f00cab6957ed&q=SAS&tk=1ft62l0v1i9b7802&from=hpd&advn=1272578650180431&adid=367702106&ad=-6NYlbfkN0Bxu6CKaaZeHzJ6IiDpuxwlJ-Jh_LThrAM6mK1WPabT4wOrE7tVDSerQupuoNaldqveRRnZCn-I_tIp5wyi9ean77lpFwBWstwxWV6ehvvWPTacCGfEVwci_XNF1I6UiLnkRlxMaZxMJ1A0xzl8P6ndKdEQCOLPjfz7mv7LBNSdXAwbuEBBwSRXujtr445DebYvoFEty_c9Vrt6wdaxxEfJ2ve64b_DHepatrE8CzLXyC-Qy_cPPLSSFsU32boQAAWRX79YQJhOtj4yzea5N11zenTDua9hFlmQN427rfZLBZHFobUmR28-AIP-Hld2yuVYYFFeREW8oSPbaicTI_TD9R9NNequqrTC88g6KiCW9F-VM18wDDRihihTtZx9-s4TgWF38xVy56wWpuRxuL3STAAyakfmT9_XxKQGpMRR7Q%3D%3D&pub=4a1b367933fd867b19b072952f68dceb&vjs=3'\n",
    "\n",
    "# probeer eerst op te halen via specifieke salary indicator\n",
    "salary_indicator <- read_html(test_url) %>%\n",
    "    html_nodes(css= '#salaryInfoAndJobType') %>%\n",
    "    html_text()\n",
    "\n",
    "\n",
    "# Als de € niet voorkomt in het bestand probeer dan de salary distribution\n",
    "if (!grepl( \"€\", salary_indicator, fixed = TRUE)){\n",
    "    salary_indicator <- read_html(test_url) %>%\n",
    "        html_nodes(css= '.cmp-SalaryDistributionDisplayWidget-subinfo') %>%\n",
    "        html_text()\n",
    "}\n",
    "\n",
    "# Als nu de salary_indicator lengte 0 heeft vul de waarden na met NA\n",
    "if (!length(salary_indicator)){\n",
    "    salary <- NA\n",
    "} else {\n",
    "    salary_start_num <- unlist(gregexpr('€', salary_indicator))[1]\n",
    "    salary_end_num <- unlist(gregexpr(' ', salary_indicator))[1]\n",
    "\n",
    "    salary <- substring(salary_indicator, salary_start_num, salary_end_num)  \n",
    "}\n",
    "\n",
    "salary_indicator\n",
    "salary\n"
   ]
  },
  {
   "cell_type": "markdown",
   "metadata": {},
   "source": [
    "## remove characters from vector"
   ]
  },
  {
   "cell_type": "code",
   "execution_count": null,
   "metadata": {},
   "outputs": [],
   "source": [
    "job_description\n",
    "\n",
    "job_description_cleaned <- gsub('[^[:alnum:] ]', ' ', job_description)\n",
    "\n",
    "job_description_cleaned\n",
    "\n",
    "word_vec <- unname(unlist(sapply(job_description_cleaned, function(z) str_split(tolower(z), \" \"))))\n",
    "\n",
    "word_vec"
   ]
  },
  {
   "cell_type": "code",
   "execution_count": null,
   "metadata": {},
   "outputs": [],
   "source": [
    "wordlist <- c(\"SQL\", \"Python\", \".NET\", \"noSQL\", \"sneakers\", 'jij')\n",
    "test_table <- word_vec[word_vec %in% tolower(wordlist)]\n",
    "test_table\n",
    "unique(test_table)\n",
    "data.frame(x = toString(unique(test_table)))\n"
   ]
  },
  {
   "cell_type": "code",
   "execution_count": null,
   "metadata": {},
   "outputs": [],
   "source": []
  },
  {
   "cell_type": "markdown",
   "metadata": {},
   "source": [
    "## Get time since placement"
   ]
  },
  {
   "cell_type": "code",
   "execution_count": 30,
   "metadata": {},
   "outputs": [
    {
     "data": {
      "text/html": [
       "9"
      ],
      "text/latex": [
       "9"
      ],
      "text/markdown": [
       "9"
      ],
      "text/plain": [
       "[1] 9"
      ]
     },
     "metadata": {},
     "output_type": "display_data"
    }
   ],
   "source": [
    "library(stringr)\n",
    "test_url = 'https://nl.indeed.com/viewjob?jk=33d4be78835757d1&tk=1ft2v35nf3b5m000&from=serp&vjs=3&advn=4610837443530944&adid=371890778&ad=-6NYlbfkN0A_cWh5ufxJCEatf9FOtgdwl-LajcKrnY3NwdklpeSDnjaH9EsBM6ngV0apa0_Kx2a5GKCW4uS0O7MdMAqsdKUS4q0L_C77bzQCZHbh2VakwHOoBSx_gXNPBJOeqxq7IUUc4s9CBf_lt5ktVCCKOckMPI8DQ-kKHnVfI97NdL-7of8Oo7OCSaCBZL8Z41xkIGi-jjU-emgJ8f1utRtU276rmh-6Rww5rOQKaWr9wwgGy6sYrcY4MEIcYBkbm5BychuYGL0AFbd7Vy65yEMtdbRprQHT9KeUwpjRNpt6FLJMpPGJcxEUzshqpQrMGS0B_CRCLlmxqTWqBEPfpy3Y7aujfdqxmlVIkXqhghqlEzA3Ag==&sjdu=0ZFwD5rbjMRcHz87Kzx_g4iztdTb_2bOBnSpyL0eJqrnoH0zhNHGeUS0d52A-25mtSPp3ZGAbkfQnEhseHJ_YqiTRf1RGyCMrfm3GKjpLJXmRb1As35_i94VtIfO7AZtgI0QXqDAYweserYyqDu1JUW2c6S_FT2kfNZmCatNflk'\n",
    "test_url2 = 'https://nl.indeed.com/viewjob?jk=a4f0bcd239475ac5&q=data+analist&tk=1ftanb2kisu17800&from=web&advn=9087037695885843&adid=383523449&ad=-6NYlbfkN0D_XjDCAAdMmk6duX_ctb43y51tBCQMBYqAQgUo9Z3gKkSSAcm5qB6MEluEyQCzZ4Qvktb_X2s0ncEMl2dcKSdOuPOzHeSOf6ZwGIA7KGgoH4fSW1JFduihoiyO8TBp2nKKYBEHE7iAi4KAZ2m6AiqwzrmuN3eJma-6mwzCf030BjJnuXNyZrUgc66Jy0ljyxBBJwVnO20F0l0IQ2F42VdP4HMPZB643QzoQbUTllGRYOw9axf9q1WCiqw1DcpbA0wJ6mrqXnCm1SuydyEQ0eIbcOblRKZj8OKDQ29FSs8YWeKq7m-fOy7CSlIAtAQfaOZmkEV6nilpTrISaNlsI0anpaZOvRqojcG9fLWfubbWHopLAhwris69mgtY5tnBSvM%3D&pub=4a1b367933fd867b19b072952f68dceb&vjs=3'\n",
    "\n",
    "time_since_placed_text <- read_html(test_url) %>%\n",
    "    html_nodes(css= '.jobsearch-JobMetadataFooter > div:nth-child(2)') %>%\n",
    "    html_text()\n",
    "\n",
    "# check if string does not contain integer using regex\n",
    "if (!grepl(\"\\\\d\", time_since_placed_text)){\n",
    "    time_since_placed_text <- read_html(test_url2) %>%\n",
    "        html_nodes(css= '.jobsearch-JobMetadataFooter > div:nth-child(1)') %>%\n",
    "        html_text()\n",
    "}\n",
    "\n",
    "time_since_placed <- str_extract_all(time_since_placed_text, \"\\\\(?[0-9,.]+\\\\)?\")[[1]] %>%\n",
    "    as.numeric()\n",
    "\n",
    "time_since_placed\n"
   ]
  },
  {
   "cell_type": "markdown",
   "metadata": {},
   "source": [
    "# Get placement date"
   ]
  },
  {
   "cell_type": "code",
   "execution_count": 60,
   "metadata": {},
   "outputs": [
    {
     "data": {
      "text/html": [
       "15"
      ],
      "text/latex": [
       "15"
      ],
      "text/markdown": [
       "15"
      ],
      "text/plain": [
       "[1] 15"
      ]
     },
     "metadata": {},
     "output_type": "display_data"
    },
    {
     "data": {
      "text/html": [
       "'Date'"
      ],
      "text/latex": [
       "'Date'"
      ],
      "text/markdown": [
       "'Date'"
      ],
      "text/plain": [
       "[1] \"Date\""
      ]
     },
     "metadata": {},
     "output_type": "display_data"
    },
    {
     "data": {
      "text/html": [
       "'Date'"
      ],
      "text/latex": [
       "'Date'"
      ],
      "text/markdown": [
       "'Date'"
      ],
      "text/plain": [
       "[1] \"Date\""
      ]
     },
     "metadata": {},
     "output_type": "display_data"
    },
    {
     "data": {
      "text/html": [
       "'numeric'"
      ],
      "text/latex": [
       "'numeric'"
      ],
      "text/markdown": [
       "'numeric'"
      ],
      "text/plain": [
       "[1] \"numeric\""
      ]
     },
     "metadata": {},
     "output_type": "display_data"
    },
    {
     "data": {
      "text/html": [
       "'Date'"
      ],
      "text/latex": [
       "'Date'"
      ],
      "text/markdown": [
       "'Date'"
      ],
      "text/plain": [
       "[1] \"Date\""
      ]
     },
     "metadata": {},
     "output_type": "display_data"
    },
    {
     "data": {
      "text/html": [
       "'Date'"
      ],
      "text/latex": [
       "'Date'"
      ],
      "text/markdown": [
       "'Date'"
      ],
      "text/plain": [
       "[1] \"Date\""
      ]
     },
     "metadata": {},
     "output_type": "display_data"
    }
   ],
   "source": [
    "library(lubridate)\n",
    "time_since_placed\n",
    "test_date <- today() - time_since_placed\n",
    "class(test_date)\n",
    "class(today())\n",
    "class(time_since_placed)\n",
    "class(today() - time_since_placed)\n",
    "test <-today()\n",
    "class(test)"
   ]
  },
  {
   "cell_type": "markdown",
   "metadata": {},
   "source": [
    "# Debugging"
   ]
  },
  {
   "cell_type": "code",
   "execution_count": 52,
   "metadata": {},
   "outputs": [
    {
     "name": "stdout",
     "output_type": "stream",
     "text": [
      "[1] TRUE\n",
      "[1] 36\n",
      "[1] 15\n",
      "[1] \"\"\n"
     ]
    }
   ],
   "source": [
    "job_base_url <- 'https://nl.indeed.com'\n",
    "job_base_search_url <- 'https://nl.indeed.com/jobs?q=data&start='\n",
    "# url_job_search <- read_html('https://nl.indeed.com/jobs?q=data')\n",
    "\n",
    "wordlist <- read.table(\n",
    "    '..\\\\Capstone\\\\trimmed_skill_names.txt',\n",
    "     header = TRUE\n",
    "     ) %>% .$x\n",
    "\n",
    "jobs_df <- data.frame(\n",
    "    Company = character(),\n",
    "    job_title = character(),\n",
    "    salary = character(),\n",
    "    skills = character(),\n",
    "    days_online = numeric(),\n",
    "    job_desc = character(),\n",
    "    job_link = character()\n",
    ")\n",
    "\n",
    "\n",
    "\n",
    "# when url is longer than 200 chars it is a job url\n",
    "# nchar(job_urls[[j]]) > 200\n",
    "if (TRUE){\n",
    "    full_job_url <- \"https://nl.indeed.com/rc/clk?jk=e680b1eb61db2605&fccid=ba07516c418dda52&vjs=3\"\n",
    "    # read html\n",
    "    job_html_read <- read_html(full_job_url)\n",
    "\n",
    "    # extract company name\n",
    "    company_name <- job_html_read %>%\n",
    "        html_nodes(css= 'head > meta:nth-child(15)') %>%\n",
    "        html_attr('content')\n",
    "\n",
    "\n",
    "    # extract title\n",
    "    job_title <- job_html_read %>%\n",
    "        html_nodes('h1') %>%\n",
    "        html_text()\n",
    "    \n",
    "    \n",
    "    time_since_placed_text <- job_html_read %>%\n",
    "        html_nodes(css= '.jobsearch-JobMetadataFooter > div:nth-child(2)') %>%\n",
    "        html_text()\n",
    "\n",
    "    \n",
    "    # check if string does not contain integer using regex\n",
    "    if (!grepl(\"\\\\d\", time_since_placed_text) & !grepl(\"Vandaag\", time_since_placed_text)){\n",
    "        time_since_placed_text <- job_html_read %>%\n",
    "            html_nodes(css= '.jobsearch-JobMetadataFooter > div:nth-child(1)') %>%\n",
    "            html_text()\n",
    "    }\n",
    "\n",
    "    if (grepl(\"\\\\d\", time_since_placed_text)){\n",
    "        time_since_placed <- str_extract_all(time_since_placed_text, \"\\\\(?[0-9,.]+\\\\)?\")[[1]]\n",
    "    } else if (grepl(\"Vandaag\", time_since_placed_text)) {\n",
    "        time_since_placed <- 0\n",
    "    } else {\n",
    "       time_since_placed <- NA\n",
    "    }\n",
    "\n",
    "\n",
    "    # extract description\n",
    "    job_description <- job_html_read %>%\n",
    "        html_nodes(xpath= '//*[@id=\"jobDescriptionText\"]') %>%\n",
    "        html_text()\n",
    "    \n",
    "\n",
    "    # remove non alpha numeric characters\n",
    "    job_description_cleaned <- gsub('[^[:alnum:] ]', ' ', job_description)\n",
    "\n",
    "    # generate wordvector\n",
    "    wordvec <- unname(unlist(sapply(job_description_cleaned, function(z) str_split(tolower(z), \" \"))))\n",
    "\n",
    "    # extract skills from word vector\n",
    "    skill_table <- wordvec[wordvec %in% tolower(wordlist)] %>%\n",
    "        unique()\n",
    "\n",
    "    # probeer salari op te halen via specifieke salary indicator\n",
    "    salary_indicator <- job_html_read %>%\n",
    "        html_nodes(css= '#salaryInfoAndJobType') %>%\n",
    "        html_text()\n",
    "    \n",
    "  \n",
    "    # Als de € niet voorkomt in het bestand probeer dan de salary distribution\n",
    "    if (length(salary_indicator) < 1){\n",
    "        salary_indicator <- job_html_read %>%\n",
    "            html_nodes(css= '.cmp-SalaryDistributionDisplayWidget-subinfo') %>%\n",
    "            html_text()\n",
    "    }\n",
    "\n",
    "    if (length(salary_indicator) < 1){\n",
    "        salary <- NA\n",
    "    } else { # anders zoek de eerste salaris indicatie\n",
    "        salary_start_num <- unlist(gregexpr('€', salary_indicator))[1]\n",
    "        salary <- substring(salary_indicator, salary_start_num, salary_start_num + 7) \n",
    "    }\n",
    "    \n",
    "    jobs_df[nrow(jobs_df) + 1,] = c(\n",
    "        company_name,\n",
    "        job_title,\n",
    "        salary,\n",
    "        toString(unique(skill_table)),\n",
    "        as.numeric(time_since_placed),\n",
    "        job_description,\n",
    "        full_job_url)\n",
    "    \n",
    "    Sys.sleep(4)\n",
    "}"
   ]
  },
  {
   "cell_type": "code",
   "execution_count": 57,
   "metadata": {},
   "outputs": [
    {
     "data": {
      "text/html": [
       "'€ 3.333 '"
      ],
      "text/latex": [
       "'€ 3.333 '"
      ],
      "text/markdown": [
       "'€ 3.333 '"
      ],
      "text/plain": [
       "[1] \"\\200 3.333 \""
      ]
     },
     "metadata": {},
     "output_type": "display_data"
    }
   ],
   "source": [
    "substring(salary_indicator, salary_start_num, salary_start_num + 7)"
   ]
  }
 ],
 "metadata": {
  "kernelspec": {
   "display_name": "R",
   "language": "R",
   "name": "ir"
  },
  "language_info": {
   "codemirror_mode": "r",
   "file_extension": ".r",
   "mimetype": "text/x-r-source",
   "name": "R",
   "pygments_lexer": "r",
   "version": "4.1.2"
  },
  "orig_nbformat": 4
 },
 "nbformat": 4,
 "nbformat_minor": 2
}
