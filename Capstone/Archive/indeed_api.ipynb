{
 "cells": [
  {
   "cell_type": "code",
   "execution_count": 29,
   "metadata": {},
   "outputs": [
    {
     "name": "stderr",
     "output_type": "stream",
     "text": [
      "No encoding supplied: defaulting to UTF-8.\n",
      "\n"
     ]
    },
    {
     "data": {
      "text/html": [
       "'{\"message\":\"Invalid API key. Go to https:\\\\/\\\\/docs.rapidapi.com\\\\/docs\\\\/keys for more info.\"}'"
      ],
      "text/latex": [
       "'\\{\"message\":\"Invalid API key. Go to https:\\textbackslash{}\\textbackslash{}/\\textbackslash{}\\textbackslash{}/docs.rapidapi.com\\textbackslash{}\\textbackslash{}/docs\\textbackslash{}\\textbackslash{}/keys for more info.\"\\}'"
      ],
      "text/markdown": [
       "'{\"message\":\"Invalid API key. Go to https:\\\\/\\\\/docs.rapidapi.com\\\\/docs\\\\/keys for more info.\"}'"
      ],
      "text/plain": [
       "[1] \"{\\\"message\\\":\\\"Invalid API key. Go to https:\\\\/\\\\/docs.rapidapi.com\\\\/docs\\\\/keys for more info.\\\"}\""
      ]
     },
     "metadata": {},
     "output_type": "display_data"
    }
   ],
   "source": [
    "library(httr)\n",
    "\n",
    "url <- \"https://awesome-indeed.p.rapidapi.com/indeed_jobs_detailed\"\n",
    "\n",
    "queryString <- list(\n",
    "  search_query = \"web developer\",\n",
    "  page = \"1\",\n",
    "  country_code = \"nl\"\n",
    ")\n",
    "\n",
    "response <- VERB(\"GET\",\n",
    " url,\n",
    "add_headers(\n",
    "  x_rapidapi_host = 'awesome-indeed.p.rapidapi.com',\n",
    "  x_rapidapi_key = '1c8f82b8demsh0366ae923c93e54p1f2b18jsnf35ce9641a90'),\n",
    "  query = queryString,\n",
    "  content_type(\"application/octet-stream\"))\n",
    "\n",
    "content(response, \"text\")"
   ]
  }
 ],
 "metadata": {
  "kernelspec": {
   "display_name": "R",
   "language": "R",
   "name": "ir"
  },
  "language_info": {
   "codemirror_mode": "r",
   "file_extension": ".r",
   "mimetype": "text/x-r-source",
   "name": "R",
   "pygments_lexer": "r",
   "version": "4.1.2"
  },
  "orig_nbformat": 4
 },
 "nbformat": 4,
 "nbformat_minor": 2
}
