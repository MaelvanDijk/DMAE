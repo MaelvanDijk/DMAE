{
 "cells": [
  {
   "cell_type": "markdown",
   "metadata": {},
   "source": [
    "# Kaggle dataset\n",
    "from: https://www.kaggle.com/madhab/jobposts\n",
    "no results for data jobs"
   ]
  },
  {
   "cell_type": "code",
   "execution_count": 23,
   "metadata": {},
   "outputs": [
    {
     "name": "stderr",
     "output_type": "stream",
     "text": [
      "Warning message in cbind(parts$left, ellip_h, parts$right, deparse.level = 0L):\n",
      "\"number of rows of result is not a multiple of vector length (arg 2)\"\n",
      "Warning message in cbind(parts$left, ellip_h, parts$right, deparse.level = 0L):\n",
      "\"number of rows of result is not a multiple of vector length (arg 2)\"\n",
      "Warning message in cbind(parts$left, ellip_h, parts$right, deparse.level = 0L):\n",
      "\"number of rows of result is not a multiple of vector length (arg 2)\"\n",
      "Warning message in cbind(parts$left, ellip_h, parts$right, deparse.level = 0L):\n",
      "\"number of rows of result is not a multiple of vector length (arg 2)\"\n"
     ]
    },
    {
     "data": {
      "text/html": [
       "<table class=\"dataframe\">\n",
       "<caption>A tibble: 0 × 24</caption>\n",
       "<thead>\n",
       "\t<tr><th scope=col>jobpost</th><th scope=col>date</th><th scope=col>Title</th><th scope=col>Company</th><th scope=col>AnnouncementCode</th><th scope=col>Term</th><th scope=col>Eligibility</th><th scope=col>Audience</th><th scope=col>StartDate</th><th scope=col>Duration</th><th scope=col>...</th><th scope=col>Salary</th><th scope=col>ApplicationP</th><th scope=col>OpeningDate</th><th scope=col>Deadline</th><th scope=col>Notes</th><th scope=col>AboutC</th><th scope=col>Attach</th><th scope=col>Year</th><th scope=col>Month</th><th scope=col>IT</th></tr>\n",
       "\t<tr><th scope=col>&lt;chr&gt;</th><th scope=col>&lt;chr&gt;</th><th scope=col>&lt;chr&gt;</th><th scope=col>&lt;chr&gt;</th><th scope=col>&lt;chr&gt;</th><th scope=col>&lt;chr&gt;</th><th scope=col>&lt;chr&gt;</th><th scope=col>&lt;chr&gt;</th><th scope=col>&lt;chr&gt;</th><th scope=col>&lt;chr&gt;</th><th scope=col>...</th><th scope=col>&lt;chr&gt;</th><th scope=col>&lt;chr&gt;</th><th scope=col>&lt;chr&gt;</th><th scope=col>&lt;chr&gt;</th><th scope=col>&lt;chr&gt;</th><th scope=col>&lt;chr&gt;</th><th scope=col>&lt;chr&gt;</th><th scope=col>&lt;dbl&gt;</th><th scope=col>&lt;dbl&gt;</th><th scope=col>&lt;lgl&gt;</th></tr>\n",
       "</thead>\n",
       "<tbody>\n",
       "</tbody>\n",
       "</table>\n"
      ],
      "text/latex": [
       "A tibble: 0 × 24\n",
       "\\begin{tabular}{lllllllllllllllllllll}\n",
       " jobpost & date & Title & Company & AnnouncementCode & Term & Eligibility & Audience & StartDate & Duration & ... & Salary & ApplicationP & OpeningDate & Deadline & Notes & AboutC & Attach & Year & Month & IT\\\\\n",
       " <chr> & <chr> & <chr> & <chr> & <chr> & <chr> & <chr> & <chr> & <chr> & <chr> & ... & <chr> & <chr> & <chr> & <chr> & <chr> & <chr> & <chr> & <dbl> & <dbl> & <lgl>\\\\\n",
       "\\hline\n",
       "\\end{tabular}\n"
      ],
      "text/markdown": [
       "\n",
       "A tibble: 0 × 24\n",
       "\n",
       "| jobpost &lt;chr&gt; | date &lt;chr&gt; | Title &lt;chr&gt; | Company &lt;chr&gt; | AnnouncementCode &lt;chr&gt; | Term &lt;chr&gt; | Eligibility &lt;chr&gt; | Audience &lt;chr&gt; | StartDate &lt;chr&gt; | Duration &lt;chr&gt; | ... ... | Salary &lt;chr&gt; | ApplicationP &lt;chr&gt; | OpeningDate &lt;chr&gt; | Deadline &lt;chr&gt; | Notes &lt;chr&gt; | AboutC &lt;chr&gt; | Attach &lt;chr&gt; | Year &lt;dbl&gt; | Month &lt;dbl&gt; | IT &lt;lgl&gt; |\n",
       "|---|---|---|---|---|---|---|---|---|---|---|---|---|---|---|---|---|---|---|---|---|\n",
       "\n"
      ],
      "text/plain": [
       "     jobpost date Title Company AnnouncementCode Term Eligibility Audience\n",
       "     StartDate Duration ... Salary ApplicationP OpeningDate Deadline Notes\n",
       "     AboutC Attach Year Month IT"
      ]
     },
     "metadata": {},
     "output_type": "display_data"
    }
   ],
   "source": [
    "library(readr)\n",
    "library(tidyverse)\n",
    "\n",
    "kaggle_jobs <- read_csv(\".\\\\data\\\\data job posts.csv\", show_col_types = FALSE)\n",
    "\n",
    "jobs_filtered <- kaggle_jobs %>%\n",
    "    filter(grepl(\"data\", kaggle_jobs$Title, fixed = TRUE))\n",
    "\n",
    "head(jobs_filtered)\n"
   ]
  }
 ],
 "metadata": {
  "kernelspec": {
   "display_name": "R",
   "language": "R",
   "name": "ir"
  },
  "language_info": {
   "codemirror_mode": "r",
   "file_extension": ".r",
   "mimetype": "text/x-r-source",
   "name": "R",
   "pygments_lexer": "r",
   "version": "4.1.2"
  },
  "orig_nbformat": 4
 },
 "nbformat": 4,
 "nbformat_minor": 2
}
